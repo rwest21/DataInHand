{
 "cells": [
  {
   "cell_type": "markdown",
   "id": "03aeaf15",
   "metadata": {},
   "source": [
    "Ryan West\n",
    "\"Data in hand\""
   ]
  },
  {
   "cell_type": "markdown",
   "id": "029c3e44",
   "metadata": {},
   "source": [
    "For my final, I will be using my Instagram data.\n",
    "I have redownloaded the file to have more up to date information.\n",
    "My project involves looking at posts to determine what types of posts I am more likely to like.\n",
    "I will be using the \"liked_posts\" file in the \"likes\" folder.\n",
    "\n",
    "This file lists the name of the account who made the post, the url link, and the timestamp.\n",
    "I will use count to determine how much of each account I have liked and determine the top accounts.\n",
    "\n",
    "I originally thought the file would also contain the post text so I could search for and count hashtags but since that doesn't seem to be the case I will stick with just counting the accounts instead."
   ]
  }
 ],
 "metadata": {
  "kernelspec": {
   "display_name": "Python 3 (ipykernel)",
   "language": "python",
   "name": "python3"
  },
  "language_info": {
   "codemirror_mode": {
    "name": "ipython",
    "version": 3
   },
   "file_extension": ".py",
   "mimetype": "text/x-python",
   "name": "python",
   "nbconvert_exporter": "python",
   "pygments_lexer": "ipython3",
   "version": "3.9.6"
  }
 },
 "nbformat": 4,
 "nbformat_minor": 5
}
